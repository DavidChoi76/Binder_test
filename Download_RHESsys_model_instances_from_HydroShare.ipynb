{
 "cells": [
  {
   "cell_type": "markdown",
   "metadata": {},
   "source": [
    "## Download RHESsys model instances from HydroShare"
   ]
  },
  {
   "cell_type": "code",
   "execution_count": null,
   "metadata": {},
   "outputs": [],
   "source": [
    "from hs_restclient import HydroShare\n",
    "import shutil, os, zipfile, glob"
   ]
  },
  {
   "cell_type": "code",
   "execution_count": null,
   "metadata": {},
   "outputs": [],
   "source": [
    "current_path = os.getcwd()"
   ]
  },
  {
   "cell_type": "code",
   "execution_count": null,
   "metadata": {},
   "outputs": [],
   "source": [
    "# Download RHESsys model data from HydroShare\n",
    "hs = HydroShare()\n",
    "resource_id = 'f974fcd6f7c9404fba1c63fd7857ce18'\n",
    "hs.getResource(resource_id, destination=current_path, unzip=True)"
   ]
  },
  {
   "cell_type": "code",
   "execution_count": null,
   "metadata": {},
   "outputs": [],
   "source": [
    "# move downloaded files to current directory\n",
    "hydroshare_resources = os.path.join(current_path, resource_id, resource_id, 'data/contents')\n",
    "for file in glob.glob(hydroshare_resources +'/*'):\n",
    "    if file == hydroshare_resources + \"/rhessys_example_download.ipynb\":\n",
    "        pass\n",
    "    else:\n",
    "        shutil.move(file, current_path)"
   ]
  },
  {
   "cell_type": "code",
   "execution_count": null,
   "metadata": {},
   "outputs": [],
   "source": [
    "\n",
    "# unzip zip file\n",
    "zip_ref = zipfile.ZipFile(os.path.join(current_path, \"code.zip\"), 'r')\n",
    "zip_ref.extractall(current_path)\n",
    "# remove unnecessary files\n",
    "os.remove(os.path.join(current_path, \"code.zip\"))\n",
    "shutil.rmtree(os.path.join(current_path, resource_id))"
   ]
  },
  {
   "cell_type": "code",
   "execution_count": null,
   "metadata": {},
   "outputs": [],
   "source": []
  },
  {
   "cell_type": "code",
   "execution_count": null,
   "metadata": {},
   "outputs": [],
   "source": []
  }
 ],
 "metadata": {
  "kernelspec": {
   "display_name": "Python 3",
   "language": "python",
   "name": "python3"
  },
  "language_info": {
   "codemirror_mode": {
    "name": "ipython",
    "version": 3
   },
   "file_extension": ".py",
   "mimetype": "text/x-python",
   "name": "python",
   "nbconvert_exporter": "python",
   "pygments_lexer": "ipython3",
   "version": "3.8.2"
  }
 },
 "nbformat": 4,
 "nbformat_minor": 4
}
